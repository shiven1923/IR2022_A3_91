{
 "cells": [
  {
   "cell_type": "code",
   "metadata": {
    "cell_id": "6952ad88873e405a87eaf668ef7cd993",
    "tags": [],
    "deepnote_to_be_reexecuted": false,
    "source_hash": "eba39436",
    "execution_start": 1650555451111,
    "execution_millis": 1225,
    "deepnote_cell_type": "code",
    "deepnote_cell_height": 99
   },
   "source": "import numpy as np\nimport matplotlib.pyplot as plt",
   "execution_count": 1,
   "outputs": []
  },
  {
   "cell_type": "code",
   "metadata": {
    "cell_id": "29c3e35cca5949a19fa3acd9ddfb9f3b",
    "tags": [],
    "deepnote_to_be_reexecuted": false,
    "source_hash": "56d67d3c",
    "execution_start": 1650555452396,
    "execution_millis": 343,
    "deepnote_cell_type": "code",
    "deepnote_cell_height": 405
   },
   "source": "inpfile = open(\"Wiki_Vote.txt\",'r')\nall_lines = inpfile.read().splitlines()\nall_lines_new = []\nglobal from_nodes, to_nodes\nfrom_nodes = []\nto_nodes = []\nfor i in range(len(all_lines)):\n    line = all_lines[i]\n    line = line.split(\"\\t\")\n    line[0] = int(line[0])\n    line[1] = int(line[1])\n    all_lines_new.append(line)\n    from_nodes.append(line[0])\n    to_nodes.append(line[1])\n\nglobal all_edges, edge_list\nall_edges = all_lines_new\nall_edges.sort()\nedge_list = all_edges",
   "execution_count": 2,
   "outputs": []
  },
  {
   "cell_type": "code",
   "metadata": {
    "cell_id": "23899e46ed524d52990536b52bde27b9",
    "tags": [],
    "deepnote_to_be_reexecuted": false,
    "source_hash": "dbf524bd",
    "execution_start": 1650555452762,
    "execution_millis": 3,
    "deepnote_cell_type": "code",
    "deepnote_cell_height": 351
   },
   "source": "a = set(from_nodes)\n# print(len(a))\nb = set(to_nodes)\n# print(len(b))\nc = a.union(b)\n# print(len(c))\nall_nodes = list(c)\nall_nodes.sort()\n# print(all_nodes)\nglobal nodeid_to_index, index_to_nodeid\nnodeid_to_index = {}\nindex_to_nodeid = {}\nfor i in range(len(all_nodes)):\n    node = all_nodes[i]\n    nodeid_to_index[node]=i\n    index_to_nodeid[i]=node",
   "execution_count": 3,
   "outputs": []
  },
  {
   "cell_type": "code",
   "metadata": {
    "cell_id": "91251d1eb2e24104b925ae8f8fc3a63e",
    "tags": [],
    "deepnote_to_be_reexecuted": false,
    "source_hash": "b7731634",
    "execution_start": 1650555452774,
    "execution_millis": 5,
    "deepnote_cell_type": "code",
    "deepnote_cell_height": 129.859375
   },
   "source": "d = a.intersection(b)\nprint(len(d))",
   "execution_count": 4,
   "outputs": [
    {
     "name": "stdout",
     "text": "1376\n",
     "output_type": "stream"
    }
   ]
  },
  {
   "cell_type": "code",
   "metadata": {
    "cell_id": "39caa56c94f347e38ac6b8d3ca7fb10b",
    "tags": [],
    "deepnote_to_be_reexecuted": false,
    "source_hash": "31720e59",
    "execution_start": 1650555452789,
    "execution_millis": 0,
    "deepnote_cell_type": "code",
    "deepnote_cell_height": 99
   },
   "source": "global graph, adj_mat\ngraph = np.zeros((7115,7115),dtype=int)",
   "execution_count": 5,
   "outputs": []
  },
  {
   "cell_type": "code",
   "metadata": {
    "cell_id": "edc4323307f3483ebadfa8b1f1a12807",
    "tags": [],
    "deepnote_to_be_reexecuted": false,
    "source_hash": "5c2ccc2f",
    "execution_start": 1650555452790,
    "execution_millis": 194,
    "deepnote_cell_type": "code",
    "deepnote_cell_height": 189
   },
   "source": "for i in range(len(all_edges)):\n    edge = all_edges[i]\n    from_node = edge[0]\n    to_node = edge[1]\n    graph[nodeid_to_index[from_node]][nodeid_to_index[to_node]]=1\n\nadj_mat = graph",
   "execution_count": 6,
   "outputs": []
  },
  {
   "cell_type": "code",
   "metadata": {
    "cell_id": "650c4b7463d242989578e0ee52312488",
    "tags": [],
    "deepnote_to_be_reexecuted": false,
    "source_hash": "84ce5b36",
    "execution_start": 1650555452996,
    "execution_millis": 0,
    "deepnote_cell_type": "code",
    "deepnote_cell_height": 81
   },
   "source": "MAX_NUM_EDGES = int((len(all_nodes)*(len(all_nodes)-1))/2)*2",
   "execution_count": 7,
   "outputs": []
  },
  {
   "cell_type": "code",
   "metadata": {
    "cell_id": "5e8e65ccf8ff46acbf073a45eb45a76a",
    "tags": [],
    "deepnote_to_be_reexecuted": false,
    "source_hash": "b6e83dee",
    "execution_start": 1650555453053,
    "execution_millis": 15,
    "deepnote_cell_type": "code",
    "deepnote_cell_height": 219.859375
   },
   "source": "def detect_self_loop():\n    for i in edge_list:\n        if(i[0]==i[1]):\n            return True\n    return False\n\nprint(detect_self_loop())",
   "execution_count": 8,
   "outputs": [
    {
     "name": "stdout",
     "text": "False\n",
     "output_type": "stream"
    }
   ]
  },
  {
   "cell_type": "code",
   "metadata": {
    "cell_id": "9b6b3232fac9428da552e874b2c58801",
    "tags": [],
    "deepnote_to_be_reexecuted": false,
    "source_hash": "eac3c858",
    "execution_start": 1650555453054,
    "execution_millis": 14,
    "deepnote_cell_type": "code",
    "deepnote_cell_height": 291.859375
   },
   "source": "def detect_bidirection():\n    for i in edge_list:\n        from_node = i[0]\n        to_node = i[1]\n        from_node_index = nodeid_to_index[from_node]\n        to_node_index = nodeid_to_index[to_node]\n        if (adj_mat[to_node_index][from_node_index]==1):\n            return True\n    return False\n\nprint(detect_bidirection())",
   "execution_count": 9,
   "outputs": [
    {
     "name": "stdout",
     "text": "True\n",
     "output_type": "stream"
    }
   ]
  },
  {
   "cell_type": "code",
   "metadata": {
    "cell_id": "be1248ede9a74e40a064592aaa1ada96",
    "tags": [],
    "deepnote_to_be_reexecuted": false,
    "source_hash": "75e1ecc4",
    "execution_start": 1650555453055,
    "execution_millis": 1,
    "deepnote_cell_type": "code",
    "deepnote_cell_height": 207
   },
   "source": "def getedge(from_node,to_node):\n    if (from_node not in all_nodes):\n        return -1\n    if (to_node not in all_nodes):\n        return -1\n    from_node_index = nodeid_to_index[from_node]\n    to_node_index = nodeid_to_index[to_node]\n    return adj_mat[from_node_index][to_node_index]",
   "execution_count": 10,
   "outputs": []
  },
  {
   "cell_type": "code",
   "metadata": {
    "cell_id": "a9df91b89709471ebc9111bb528c5f6c",
    "tags": [],
    "deepnote_to_be_reexecuted": false,
    "source_hash": "80c09d1a",
    "execution_start": 1650555453060,
    "execution_millis": 18,
    "deepnote_cell_type": "code",
    "deepnote_cell_height": 118.1875,
    "deepnote_output_heights": [
     21.1875,
     21.1875
    ]
   },
   "source": "getedge(30,1412)",
   "execution_count": 11,
   "outputs": [
    {
     "output_type": "execute_result",
     "execution_count": 11,
     "data": {
      "text/plain": "1"
     },
     "metadata": {}
    }
   ]
  },
  {
   "cell_type": "code",
   "metadata": {
    "cell_id": "73e50336f47246a8ac4be40910b3ef6f",
    "tags": [],
    "deepnote_to_be_reexecuted": false,
    "source_hash": "390f8623",
    "execution_start": 1650555453082,
    "execution_millis": 16,
    "deepnote_cell_type": "code",
    "deepnote_cell_height": 233.375,
    "deepnote_output_heights": [
     136.375
    ]
   },
   "source": "adj_mat",
   "execution_count": 12,
   "outputs": [
    {
     "output_type": "execute_result",
     "execution_count": 12,
     "data": {
      "text/plain": "array([[0, 0, 0, ..., 0, 0, 0],\n       [0, 0, 0, ..., 0, 0, 0],\n       [0, 0, 0, ..., 0, 0, 0],\n       ...,\n       [0, 0, 0, ..., 0, 0, 0],\n       [0, 0, 0, ..., 0, 0, 0],\n       [0, 0, 0, ..., 0, 0, 0]])"
     },
     "metadata": {}
    }
   ]
  },
  {
   "cell_type": "code",
   "metadata": {
    "cell_id": "1bc13fcf46bd4ab0915e718264b15cd9",
    "tags": [],
    "deepnote_to_be_reexecuted": false,
    "source_hash": "5a908856",
    "execution_start": 1650555453105,
    "execution_millis": 4,
    "deepnote_cell_type": "code",
    "deepnote_cell_height": 531
   },
   "source": "def get_num_of_nodes():\n    return len(adj_mat)\n\ndef get_num_of_edges():\n    return len(edge_list)\n\ndef get_avg_in_degree():\n    global in_degrees\n    in_degrees = []\n    new_edge_list = sorted(edge_list,key=lambda x:x[1])\n    current_node = new_edge_list[0][1]\n    count = 1\n    for i in range(1,len(new_edge_list)):\n        node = new_edge_list[i][1]\n        if (current_node == node):\n            count+=1\n            if (i == len(new_edge_list) - 1):\n                in_degrees.append(count)\n        else:\n            current_node = node\n            in_degrees.append(count)\n            count = 1\n            if (i == len(new_edge_list) - 1):\n                in_degrees.append(count)\n    return sum(in_degrees)/len(all_nodes)\n",
   "execution_count": 13,
   "outputs": []
  },
  {
   "cell_type": "code",
   "metadata": {
    "cell_id": "80a08b6a70434979a48745d004b6c211",
    "tags": [],
    "deepnote_to_be_reexecuted": false,
    "source_hash": "d7164967",
    "execution_start": 1650555453115,
    "execution_millis": 6,
    "deepnote_cell_type": "code",
    "deepnote_cell_height": 459
   },
   "source": "def get_avg_out_degree():\n    global out_degrees\n    out_degrees = []\n    new_edge_list = edge_list\n    current_node = new_edge_list[0][0]\n    bigcount=1\n    count = 1\n    for i in range(1,len(new_edge_list)):\n        bigcount+=1\n        node = new_edge_list[i][0]\n        if (current_node == node):\n            count+=1\n            if (i == len(new_edge_list) - 1):\n                out_degrees.append(count)\n        else:\n            current_node = node\n            out_degrees.append(count)\n            count = 1\n            if (i == len(new_edge_list) - 1):\n                out_degrees.append(count)\n    # print(bigcount)\n    return sum(out_degrees)/len(all_nodes)",
   "execution_count": 14,
   "outputs": []
  },
  {
   "cell_type": "code",
   "metadata": {
    "cell_id": "11e2e96cef6f45758c67246b6e048026",
    "tags": [],
    "deepnote_to_be_reexecuted": false,
    "source_hash": "5dba07ce",
    "execution_start": 1650555453176,
    "execution_millis": 1,
    "deepnote_cell_type": "code",
    "deepnote_cell_height": 405
   },
   "source": "def get_node_max_in_deg():\n    in_degrees = {}\n    new_edge_list = sorted(edge_list,key=lambda x:x[1])\n    current_node = new_edge_list[0][1]\n    count = 1\n    for i in range(1,len(new_edge_list)):\n        node = new_edge_list[i][1]\n        if (current_node == node):\n            count+=1\n            if (i == len(new_edge_list) - 1):\n                in_degrees[node]=count\n        else:\n            in_degrees[current_node]=count\n            current_node = node\n            count = 1\n            if (i == len(new_edge_list) - 1):\n                in_degrees[node]=count\n    sorted_in_deg = sorted(in_degrees.items(),key=lambda x:x[1],reverse=True)\n    return sorted_in_deg[0][0]",
   "execution_count": 15,
   "outputs": []
  },
  {
   "cell_type": "code",
   "metadata": {
    "cell_id": "d70e0370d43946a18f49e6ea67b5ea3a",
    "tags": [],
    "deepnote_to_be_reexecuted": false,
    "source_hash": "e8c883c0",
    "execution_start": 1650555453177,
    "execution_millis": 1,
    "deepnote_cell_type": "code",
    "deepnote_cell_height": 423
   },
   "source": "def get_node_max_out_deg():\n    out_degrees = {}\n    new_edge_list = sorted(edge_list,key=lambda x:x[0])\n    current_node = new_edge_list[0][0]\n    count = 1\n    for i in range(1,len(new_edge_list)):\n        node = new_edge_list[i][0]\n        if (current_node == node):\n            count+=1\n            if (i == len(new_edge_list) - 1):\n                out_degrees[node]=count\n        else:\n            out_degrees[current_node]=count\n            current_node = node\n            count = 1\n            if (i == len(new_edge_list) - 1):\n                out_degrees[node]=count\n    sorted_out_deg = sorted(out_degrees.items(),key=lambda x:x[1],reverse=True)\n    return sorted_out_deg[0][0]\n    ",
   "execution_count": 16,
   "outputs": []
  },
  {
   "cell_type": "code",
   "metadata": {
    "cell_id": "200cb98e864c47959ce0dae32fadc9f6",
    "tags": [],
    "deepnote_to_be_reexecuted": false,
    "source_hash": "6efb8d0",
    "execution_start": 1650555453179,
    "execution_millis": 4978346,
    "deepnote_cell_type": "code",
    "deepnote_cell_height": 99
   },
   "source": "def get_network_density():\n    return (len(edge_list)/MAX_NUM_EDGES)",
   "execution_count": 17,
   "outputs": []
  },
  {
   "cell_type": "code",
   "metadata": {
    "cell_id": "993bc9cdee7044b28aeef490e2359263",
    "tags": [],
    "deepnote_to_be_reexecuted": false,
    "source_hash": "15f71c0",
    "execution_start": 1650555453220,
    "execution_millis": 810,
    "deepnote_cell_type": "code",
    "deepnote_cell_height": 263.3125,
    "deepnote_output_heights": [
     null,
     21.1875
    ]
   },
   "source": "print(\"Average In Degree\",get_avg_in_degree())\nprint(\"Average Out Degree\",get_avg_out_degree())\nprint(\"Node ID having maximum In-Degree\",get_node_max_in_deg())\nprint(\"Node ID having maximum Out-Degree\",get_node_max_out_deg())\nprint(\"Network Density\",get_network_density())",
   "execution_count": 18,
   "outputs": [
    {
     "name": "stdout",
     "text": "Average In Degree 14.573295853829936\nAverage Out Degree 14.573295853829936\nNode ID having maximum In-Degree 4037\nNode ID having maximum Out-Degree 2565\nNetwork Density 0.0020485375110809584\n",
     "output_type": "stream"
    }
   ]
  },
  {
   "cell_type": "code",
   "metadata": {
    "cell_id": "28a90e5f45b944489453f5d916f5a700",
    "tags": [],
    "deepnote_to_be_reexecuted": false,
    "source_hash": "c95b76d5",
    "execution_start": 1650555453655,
    "execution_millis": 4978573,
    "deepnote_cell_type": "code",
    "deepnote_cell_height": 297
   },
   "source": "def get_freq(degrees):\n    freq_dict = {}\n    for i in degrees:\n        if i in freq_dict:\n            freq_dict[i]+=1\n        else:\n            freq_dict[i]=1\n    nodes_having_atleast1 = len(degrees)\n    nodes_having_zero = len(all_nodes)-nodes_having_atleast1\n    freq_dict[0]=nodes_having_zero\n    return freq_dict\n\n",
   "execution_count": 19,
   "outputs": []
  },
  {
   "cell_type": "code",
   "metadata": {
    "cell_id": "376af4bc75884bb79ec089fe27d5afc1",
    "tags": [],
    "deepnote_to_be_reexecuted": false,
    "source_hash": "df9c74f7",
    "execution_start": 1650555453656,
    "execution_millis": 950,
    "deepnote_cell_type": "code",
    "deepnote_cell_height": 595,
    "deepnote_output_heights": [
     246,
     246
    ]
   },
   "source": "plt.rcParams[\"figure.figsize\"] = [7.00, 3.50]\nplt.rcParams[\"figure.autolayout\"] = True\nplt.title(\"In-Degree Distribution\")\n\nfreq_dict = get_freq(in_degrees).items()\nx_axis2 = []\ny_axis2 = []\n\nfor i in freq_dict:\n    x_axis2.append(i[0])\n    y_axis2.append(i[1]/len(all_nodes))\n\nplt.bar(x_axis2,y_axis2,width=1)\nplt.show()\n",
   "execution_count": 20,
   "outputs": [
    {
     "data": {
      "text/plain": "<Figure size 504x252 with 1 Axes>",
      "image/png": "[encoded data removed]"
     },
     "metadata": {
      "needs_background": "light",
      "image/png": {
       "width": 496,
       "height": 244
      }
     },
     "output_type": "display_data"
    }
   ]
  },
  {
   "cell_type": "code",
   "metadata": {
    "cell_id": "5770fc7a2d804587832375725a8aa3b8",
    "tags": [],
    "deepnote_to_be_reexecuted": false,
    "source_hash": "9242210b",
    "execution_start": 1650555454644,
    "execution_millis": 841,
    "deepnote_cell_type": "code",
    "deepnote_cell_height": 534.09375,
    "deepnote_output_heights": [
     221.109375,
     221.109375
    ]
   },
   "source": "plt.rcParams[\"figure.figsize\"] = [15, 5]\nplt.title(\"Out-Degree Distribution\")\n\nfreq_dict = list(get_freq(out_degrees).items())\nx_axis = []\ny_axis = []\nfreq_dict.sort()\nfor i in freq_dict:\n    x_axis.append(i[0])\n    y_axis.append(i[1]/len(all_nodes))\n\nplt.bar(x_axis,y_axis,width=2)\nplt.show()",
   "execution_count": 21,
   "outputs": [
    {
     "data": {
      "text/plain": "<Figure size 1080x360 with 1 Axes>",
      "image/png": "[encoded data removed]"
     },
     "metadata": {
      "needs_background": "light",
      "image/png": {
       "width": 1072,
       "height": 352
      }
     },
     "output_type": "display_data"
    }
   ]
  },
  {
   "cell_type": "code",
   "metadata": {
    "cell_id": "0c5e1f64f21042159a578b5154709d2d",
    "tags": [],
    "deepnote_to_be_reexecuted": false,
    "source_hash": "3628918e",
    "execution_start": 1650555455492,
    "execution_millis": 17,
    "deepnote_cell_type": "code",
    "deepnote_cell_height": 459
   },
   "source": "def neighbourhood():\n    nodes_neighbors = {}\n    for i in edge_list:\n        from_node = i[0]\n        to_node = i[1]\n        if from_node in nodes_neighbors:\n            if to_node in nodes_neighbors[from_node]:\n                pass\n            else:\n                nodes_neighbors[from_node].append(to_node)\n        else:\n            nodes_neighbors[from_node]=[]\n            nodes_neighbors[from_node].append(to_node)\n        if to_node in nodes_neighbors:\n            if from_node in nodes_neighbors[to_node]:\n                pass\n            else:\n                nodes_neighbors[to_node].append(from_node)\n        else:\n            nodes_neighbors[to_node] = []\n            nodes_neighbors[to_node].append(from_node)\n    return nodes_neighbors",
   "execution_count": 22,
   "outputs": []
  },
  {
   "cell_type": "code",
   "metadata": {
    "cell_id": "020ea9fcb0b64098a78b4a080e6c175b",
    "tags": [],
    "deepnote_to_be_reexecuted": false,
    "source_hash": "fb1de90f",
    "execution_start": 1650555455516,
    "execution_millis": 10,
    "deepnote_cell_type": "code",
    "deepnote_cell_height": 279
   },
   "source": "def num_intersect(neighs):\n    count = 0\n    for i in neighs:\n        neighs2 = neighs.copy()\n        neighs2.remove(i)\n        for j in neighs2:\n            id1 = nodeid_to_index[i]\n            id2 = nodeid_to_index[j]\n            if (adj_mat[id1][id2]==1):\n                count+=1\n    return count\n",
   "execution_count": 23,
   "outputs": []
  },
  {
   "cell_type": "code",
   "metadata": {
    "cell_id": "5db0844642df42cba47802e9958054ce",
    "tags": [],
    "deepnote_to_be_reexecuted": false,
    "source_hash": "8c142183",
    "execution_start": 1650555455530,
    "execution_millis": 504,
    "deepnote_cell_type": "code",
    "deepnote_cell_height": 81
   },
   "source": "nodes_neighbors = neighbourhood()",
   "execution_count": 24,
   "outputs": []
  },
  {
   "cell_type": "code",
   "metadata": {
    "cell_id": "ad19b5a9a49749cba415ea7e93ba7b1a",
    "tags": [],
    "deepnote_to_be_reexecuted": false,
    "source_hash": "b235615a",
    "execution_start": 1650555456047,
    "execution_millis": 16382,
    "deepnote_cell_type": "code",
    "deepnote_cell_height": 261
   },
   "source": "lcc = []\nfor i in nodes_neighbors:\n    neighs = nodes_neighbors[i]\n    numerator = num_intersect(neighs)\n    deno = len(neighs)*(len(neighs)-1)\n    if (deno==0):\n        # print(i)\n        val = 0\n    else:\n        val = numerator/deno\n    lcc.append(val)",
   "execution_count": 25,
   "outputs": []
  },
  {
   "cell_type": "code",
   "metadata": {
    "cell_id": "80fd4d31fe154c6491ac8f06a94cd825",
    "tags": [],
    "deepnote_to_be_reexecuted": false,
    "source_hash": "129c0fbc",
    "execution_start": 1650555472445,
    "execution_millis": 426,
    "deepnote_cell_type": "code",
    "deepnote_cell_height": 372.09375,
    "deepnote_output_heights": [
     221.109375,
     21,
     221.109375
    ]
   },
   "source": "plt.title(\"Local Clustering Coefficient Distribution\")\nplt.hist(lcc, bins=np.arange(min(lcc), max(lcc) + 0.01, 0.01))\nplt.show()\n",
   "execution_count": 26,
   "outputs": [
    {
     "data": {
      "text/plain": "<Figure size 1080x360 with 1 Axes>",
      "image/png": "[encoded data removed]"
     },
     "metadata": {
      "needs_background": "light",
      "image/png": {
       "width": 1072,
       "height": 352
      }
     },
     "output_type": "display_data"
    }
   ]
  },
  {
   "cell_type": "code",
   "metadata": {
    "cell_id": "ece9aa7d6c1b4a4eb763c23b9b6b38fb",
    "tags": [],
    "deepnote_to_be_reexecuted": false,
    "source_hash": "33278a41",
    "execution_start": 1650555472873,
    "execution_millis": 139,
    "deepnote_cell_type": "code",
    "deepnote_cell_height": 81
   },
   "source": "import networkx as nx",
   "execution_count": 27,
   "outputs": []
  },
  {
   "cell_type": "code",
   "metadata": {
    "cell_id": "4e359c1295db48b7b768a50b9b935994",
    "tags": [],
    "deepnote_to_be_reexecuted": false,
    "source_hash": "1af3a353",
    "execution_start": 1650555473035,
    "execution_millis": 163,
    "deepnote_cell_type": "code",
    "deepnote_cell_height": 153
   },
   "source": "global NXGraph\nNXGraph = nx.DiGraph()\n\nfor i in edge_list:\n    NXGraph.add_edge(i[0],i[1])",
   "execution_count": 28,
   "outputs": []
  },
  {
   "cell_type": "code",
   "metadata": {
    "cell_id": "66dc93c8587e4ced9a799f3bfa1c6fab",
    "tags": [],
    "deepnote_to_be_reexecuted": false,
    "source_hash": "117c26ee",
    "execution_start": 1650555473253,
    "execution_millis": 2,
    "deepnote_cell_type": "code",
    "deepnote_cell_height": 149.71875,
    "deepnote_output_heights": [
     21.1875
    ]
   },
   "source": "print(NXGraph.number_of_nodes())\nprint(NXGraph.number_of_edges())",
   "execution_count": 29,
   "outputs": [
    {
     "name": "stdout",
     "text": "7115\n103689\n",
     "output_type": "stream"
    }
   ]
  },
  {
   "cell_type": "code",
   "metadata": {
    "cell_id": "a3ca18159a5f48b3a70b846ef43b8e3d",
    "tags": [],
    "deepnote_to_be_reexecuted": false,
    "source_hash": "e500b152",
    "execution_start": 1650555473254,
    "execution_millis": 235,
    "deepnote_cell_type": "code",
    "deepnote_cell_height": 81
   },
   "source": "pr = nx.pagerank(NXGraph)",
   "execution_count": 30,
   "outputs": []
  },
  {
   "cell_type": "code",
   "metadata": {
    "cell_id": "d9f1a59681144865bbb7b163388647d4",
    "tags": [],
    "deepnote_to_be_reexecuted": false,
    "source_hash": "b47bc2da",
    "execution_start": 1650556043269,
    "execution_millis": 351,
    "deepnote_cell_type": "code",
    "deepnote_cell_height": 117,
    "deepnote_output_heights": [
     611
    ]
   },
   "source": "result = nx.hits(NXGraph)\nhubs = result[0]\nauths = result[1]",
   "execution_count": 40,
   "outputs": []
  },
  {
   "cell_type": "code",
   "metadata": {
    "cell_id": "56daf3a8f4644ed09e97fbce1e6d7e74",
    "tags": [],
    "deepnote_to_be_reexecuted": false,
    "source_hash": "ce6c34f6",
    "execution_start": 1650557038056,
    "execution_millis": 6,
    "deepnote_cell_type": "code",
    "deepnote_cell_height": 205.59375
   },
   "source": "auths_sorted = sorted(auths.items(),key=lambda x:x[1],reverse=True)\nprint(auths_sorted[0])\nprint(auths_sorted[1])\nprint(auths_sorted[2])",
   "execution_count": 47,
   "outputs": [
    {
     "name": "stdout",
     "text": "(2398, 0.0025801471780088747)\n(4037, 0.0025732411242297914)\n(3352, 0.0023284150914976817)\n",
     "output_type": "stream"
    }
   ]
  },
  {
   "cell_type": "code",
   "metadata": {
    "cell_id": "22e8d1c4651949dab54ab9a229b3253b",
    "tags": [],
    "deepnote_to_be_reexecuted": false,
    "source_hash": "73355a9",
    "execution_start": 1650556989792,
    "execution_millis": 217,
    "deepnote_cell_type": "code",
    "deepnote_cell_height": 205.59375,
    "deepnote_output_heights": [
     21.1875
    ]
   },
   "source": "hubs_sorted = sorted(hubs.items(),key=lambda x : x[1],reverse=True)\nprint(hubs_sorted[0])\nprint(hubs_sorted[1])\nprint(hubs_sorted[2])",
   "execution_count": 46,
   "outputs": [
    {
     "name": "stdout",
     "text": "(2565, 0.007940492708143137)\n(766, 0.00757433529750124)\n(2688, 0.006440248991029857)\n",
     "output_type": "stream"
    }
   ]
  },
  {
   "cell_type": "code",
   "metadata": {
    "cell_id": "54f51b88dfe542fab309b7f05f6d27c4",
    "tags": [],
    "deepnote_to_be_reexecuted": false,
    "source_hash": "6792ac05",
    "execution_start": 1650557154577,
    "execution_millis": 8,
    "deepnote_cell_type": "code",
    "deepnote_cell_height": 450.78125,
    "deepnote_output_heights": [
     21.1875
    ]
   },
   "source": "print(getedge(2565,2398))\nprint(getedge(2565,4037))\nprint(getedge(2565,3352))\nprint(getedge(766,2398))\nprint(getedge(766,4037))\nprint(getedge(766,3352))\nprint(getedge(2688,2398))\nprint(getedge(2688,4037))\nprint(getedge(2688,3352))\n\n",
   "execution_count": 52,
   "outputs": [
    {
     "name": "stdout",
     "text": "1\n1\n1\n1\n0\n1\n1\n1\n1\n",
     "output_type": "stream"
    }
   ]
  },
  {
   "cell_type": "code",
   "metadata": {
    "cell_id": "3100954b60de4b71ac1c2863ff12f19a",
    "tags": [],
    "deepnote_to_be_reexecuted": false,
    "source_hash": "21d813b5",
    "execution_start": 1650557248719,
    "execution_millis": 6,
    "owner_user_id": "e8b319f4-9075-46c0-a1a7-34af8e84f666",
    "deepnote_cell_type": "code",
    "deepnote_cell_height": 205.59375
   },
   "source": "pr_sorted = sorted(pr.items(),key=lambda x : x[1],reverse=True)\nprint(pr_sorted[0])\nprint(pr_sorted[1])\nprint(pr_sorted[2])",
   "execution_count": 53,
   "outputs": [
    {
     "name": "stdout",
     "text": "(4037, 0.004612715891167545)\n(15, 0.0036812207295292693)\n(6634, 0.0035248136576402577)\n",
     "output_type": "stream"
    }
   ]
  },
  {
   "cell_type": "code",
   "metadata": {
    "cell_id": "7823911130a648f181a4530347c31cc8",
    "tags": [],
    "deepnote_to_be_reexecuted": false,
    "source_hash": "bc6155fb",
    "execution_start": 1650557928039,
    "execution_millis": 2,
    "deepnote_cell_type": "code",
    "deepnote_cell_height": 293.71875
   },
   "source": "top_auths = []\ntop_prs = []\ntop_hubs = []\nfor i in range(20):\n    top_auths.append(auths_sorted[i][0])\n    top_prs.append(pr_sorted[i][0])\n    top_hubs.append(hubs_sorted[i][0])\n\nprint(\"Common Results Top 20 PageRank and Auth\",len(set(top_auths).intersection(set(top_prs))))\nprint(\"Common Results Top 10 PageRank and Hubs\",len(set(top_hubs).intersection(set(top_prs))))",
   "execution_count": 62,
   "outputs": [
    {
     "name": "stdout",
     "text": "Common Results Top 20 PageRank and Auth 9\nCommon Results Top 10 PageRank and Hubs 1\n",
     "output_type": "stream"
    }
   ]
  },
  {
   "cell_type": "code",
   "metadata": {
    "cell_id": "13c21353c79444af998362cd87a9fc60",
    "tags": [],
    "deepnote_to_be_reexecuted": false,
    "source_hash": "6ec337eb",
    "execution_start": 1650557732540,
    "execution_millis": 1,
    "deepnote_cell_type": "code",
    "deepnote_cell_height": 189
   },
   "source": "def num_to_node(nodeid):\n    preneighs = []\n    to_node_index = nodeid_to_index[nodeid]\n    for i in range(len(adj_mat)):\n        if adj_mat[i][to_node_index]==1:\n            preneighs.append(index_to_nodeid[i])\n    return preneighs",
   "execution_count": 59,
   "outputs": []
  },
  {
   "cell_type": "code",
   "metadata": {
    "cell_id": "f1868ab615b344e5bafcab0044f97a8a",
    "tags": [],
    "deepnote_to_be_reexecuted": false,
    "source_hash": "a0d5703b",
    "execution_start": 1650557798693,
    "execution_millis": 2,
    "deepnote_cell_type": "code",
    "deepnote_cell_height": 205.59375,
    "deepnote_output_heights": [
     21.1875
    ]
   },
   "source": "print(len(num_to_node(2398)))\nprint(len(num_to_node(4037)))\nprint(len(num_to_node(15)))\n",
   "execution_count": 61,
   "outputs": [
    {
     "name": "stdout",
     "text": "340\n457\n361\n",
     "output_type": "stream"
    }
   ]
  },
  {
   "cell_type": "markdown",
   "source": "<a style='text-decoration:none;line-height:16px;display:flex;color:#5B5B62;padding:10px;justify-content:end;' href='https://deepnote.com?utm_source=created-in-deepnote-cell&projectId=14fea53d-f02c-4224-97a4-dcba4c056548' target=\"_blank\">\n<img alt='Created in deepnote.com' style='display:inline;max-height:16px;margin:0px;margin-right:7.5px;' src='data:image/svg+xml;base64,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' > </img>\nCreated in <span style='font-weight:600;margin-left:4px;'>Deepnote</span></a>",
   "metadata": {
    "tags": [],
    "created_in_deepnote_cell": true,
    "deepnote_cell_type": "markdown"
   }
  }
 ],
 "nbformat": 4,
 "nbformat_minor": 2,
 "metadata": {
  "orig_nbformat": 2,
  "deepnote": {},
  "deepnote_notebook_id": "31652d57-b4d0-45d0-b975-76808bfa9387",
  "deepnote_execution_queue": []
 }
}